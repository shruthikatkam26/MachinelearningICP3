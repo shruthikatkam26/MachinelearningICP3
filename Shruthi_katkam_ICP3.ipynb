{
  "nbformat": 4,
  "nbformat_minor": 0,
  "metadata": {
    "colab": {
      "provenance": []
    },
    "kernelspec": {
      "name": "python3",
      "display_name": "Python 3"
    },
    "language_info": {
      "name": "python"
    }
  },
  "cells": [
    {
      "cell_type": "code",
      "execution_count": 1,
      "metadata": {
        "colab": {
          "base_uri": "https://localhost:8080/"
        },
        "id": "-PwNhWnNUyau",
        "outputId": "baa03ef0-3436-4bb7-a232-fee8ae5e45b3"
      },
      "outputs": [
        {
          "output_type": "stream",
          "name": "stdout",
          "text": [
            "[[ 2 19 17 10  9]\n",
            " [ 8  2  6 16 11]\n",
            " [15  2  9  4  9]]\n",
            "(3, 5)\n",
            "[[ 2  0 17 10  9]\n",
            " [ 8  2  6  0 11]\n",
            " [ 0  2  9  4  9]]\n"
          ]
        }
      ],
      "source": [
        "import numpy as np\n",
        "\n",
        "# Creating a random vector of size 15 with integers of range 1-20\n",
        "random_vector = np.random.randint(low=1, high=21, size=15)\n",
        "\n",
        "# Reshaping the vector to 3 by 5 array\n",
        "array_3x5 = random_vector.reshape(3, 5)\n",
        "print(array_3x5)\n",
        "\n",
        "# Printing the shape of the array\n",
        "print(array_3x5.shape)\n",
        "\n",
        "# Replacing the max in each row by 0\n",
        "array_3x5[np.arange(3), array_3x5.argmax(axis=1)] = 0\n",
        "\n",
        "# Printing the modified array\n",
        "print(array_3x5)"
      ]
    },
    {
      "cell_type": "code",
      "source": [
        "import numpy as np\n",
        "\n",
        "# Create a 2-dimensional array\n",
        "array_2d = np.zeros((4, 3), dtype=np.int32)\n",
        "\n",
        "# Print the array\n",
        "print(\"Array:\")\n",
        "print(array_2d)\n",
        "\n",
        "# Print shape, type, and data type\n",
        "print(\"\\nShape:\", array_2d.shape)\n",
        "print(\"Type:\", type(array_2d))\n",
        "print(\"Data Type:\", array_2d.dtype)\n"
      ],
      "metadata": {
        "colab": {
          "base_uri": "https://localhost:8080/"
        },
        "id": "tjgolc-nU0he",
        "outputId": "d02f9aef-a175-42b7-f1bb-73ba46c8e05c"
      },
      "execution_count": 2,
      "outputs": [
        {
          "output_type": "stream",
          "name": "stdout",
          "text": [
            "Array:\n",
            "[[0 0 0]\n",
            " [0 0 0]\n",
            " [0 0 0]\n",
            " [0 0 0]]\n",
            "\n",
            "Shape: (4, 3)\n",
            "Type: <class 'numpy.ndarray'>\n",
            "Data Type: int32\n"
          ]
        }
      ]
    },
    {
      "cell_type": "code",
      "source": [
        "import numpy as np\n",
        "\n",
        "# Defining the input matrix\n",
        "A = np.array([[3, -2], [1, 0]])\n",
        "\n",
        "# Computing the eigenvalues and right eigenvectors\n",
        "eigenvalues, eigenvectors = np.linalg.eig(A)\n",
        "\n",
        "# Printing the results\n",
        "print(\"Eigenvalues: \", eigenvalues)\n",
        "print(\"Right eigenvectors:\\n\", eigenvectors)\n"
      ],
      "metadata": {
        "colab": {
          "base_uri": "https://localhost:8080/"
        },
        "id": "98xAMTpPU-J5",
        "outputId": "21730339-e559-4f4a-89e2-cb11ac5cdcae"
      },
      "execution_count": 3,
      "outputs": [
        {
          "output_type": "stream",
          "name": "stdout",
          "text": [
            "Eigenvalues:  [2. 1.]\n",
            "Right eigenvectors:\n",
            " [[0.89442719 0.70710678]\n",
            " [0.4472136  0.70710678]]\n"
          ]
        }
      ]
    },
    {
      "cell_type": "code",
      "source": [
        "import numpy as np\n",
        "\n",
        "# Defining the input array\n",
        "A = np.array([[0, 1, 2], [3, 4, 5]])\n",
        "\n",
        "# Computing the sum of the diagonal elements\n",
        "diag_sum = np.trace(A)\n",
        "\n",
        "# Printing the result\n",
        "print(\"Sum of diagonal elements:\", diag_sum)\n"
      ],
      "metadata": {
        "colab": {
          "base_uri": "https://localhost:8080/"
        },
        "id": "FKG-5ItDVCh6",
        "outputId": "b7201d0e-ac62-4ee7-c12b-150137f2f765"
      },
      "execution_count": 4,
      "outputs": [
        {
          "output_type": "stream",
          "name": "stdout",
          "text": [
            "Sum of diagonal elements: 4\n"
          ]
        }
      ]
    },
    {
      "cell_type": "code",
      "source": [
        "import numpy as np\n",
        "\n",
        "# Defining the input array\n",
        "A = np.array([[1, 2], [3, 4], [5, 6]])\n",
        "\n",
        "# Reshaping the array to a 2x3 shape without changing its data\n",
        "B = A.reshape((2, 3))\n",
        "\n",
        "# Printing the original and reshaped arrays\n",
        "print(\"Original array:\\n\", A)\n",
        "print(\"Reshaped array:\\n\", B)"
      ],
      "metadata": {
        "colab": {
          "base_uri": "https://localhost:8080/"
        },
        "id": "M8i3DtBOVILo",
        "outputId": "791eb89b-e456-406d-bcb9-48f084274e73"
      },
      "execution_count": 5,
      "outputs": [
        {
          "output_type": "stream",
          "name": "stdout",
          "text": [
            "Original array:\n",
            " [[1 2]\n",
            " [3 4]\n",
            " [5 6]]\n",
            "Reshaped array:\n",
            " [[1 2 3]\n",
            " [4 5 6]]\n"
          ]
        }
      ]
    }
  ]
}